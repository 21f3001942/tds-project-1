from google.colab import userdata
import requests
from openai import OpenAI
